{
  "nbformat": 4,
  "nbformat_minor": 0,
  "metadata": {
    "colab": {
      "provenance": [],
      "authorship_tag": "ABX9TyNozfhcqjlIkxiH16oFKUB/",
      "include_colab_link": true
    },
    "kernelspec": {
      "name": "python3",
      "display_name": "Python 3"
    },
    "language_info": {
      "name": "python"
    }
  },
  "cells": [
    {
      "cell_type": "markdown",
      "metadata": {
        "id": "view-in-github",
        "colab_type": "text"
      },
      "source": [
        "<a href=\"https://colab.research.google.com/github/tsuhuey/colab-example-/blob/main/notebook1.ipynb\" target=\"_parent\"><img src=\"https://colab.research.google.com/assets/colab-badge.svg\" alt=\"Open In Colab\"/></a>"
      ]
    },
    {
      "cell_type": "code",
      "execution_count": 1,
      "metadata": {
        "colab": {
          "base_uri": "https://localhost:8080/"
        },
        "id": "MoYzLpznXG71",
        "outputId": "bdb2c39c-087f-4a4f-8990-479d825da8ca"
      },
      "outputs": [
        {
          "output_type": "stream",
          "name": "stdout",
          "text": [
            "Hello World\n"
          ]
        }
      ],
      "source": [
        "print (\"Hello World\")"
      ]
    },
    {
      "cell_type": "markdown",
      "source": [
        "# I can write anything I want\n",
        "\n",
        "normal text\n",
        "\n",
        "*   List item\n",
        "*   List item\n",
        "\n",
        "[^3]: this is the fir\n",
        "\n",
        "*item 1\n",
        "*item 2\n",
        "    *item 3a\n",
        "    "
      ],
      "metadata": {
        "id": "wzRc5zU_X_jt"
      }
    },
    {
      "cell_type": "code",
      "source": [],
      "metadata": {
        "id": "6KM74RQBbG4B"
      },
      "execution_count": null,
      "outputs": []
    }
  ]
}